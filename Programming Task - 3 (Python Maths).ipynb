{
 "cells": [
  {
   "cell_type": "markdown",
   "id": "49287b32",
   "metadata": {},
   "source": [
    "#### Task_1:You are given a complex z . Your task is to convert it to polar coordinates."
   ]
  },
  {
   "cell_type": "code",
   "execution_count": 1,
   "id": "3e9ef422",
   "metadata": {},
   "outputs": [
    {
     "name": "stdout",
     "output_type": "stream",
     "text": [
      "1+2j\n",
      "2.23606797749979\n",
      "1.1071487177940904\n"
     ]
    }
   ],
   "source": [
    "import cmath\n",
    "n = input()\n",
    "s = complex(n)\n",
    "print(abs(s))\n",
    "print(cmath.phase(s))"
   ]
  },
  {
   "cell_type": "markdown",
   "id": "a497cbdc",
   "metadata": {},
   "source": [
    "#### Task_2:You are given a positive integer N.Your task is to print a palindromic triangle of size N."
   ]
  },
  {
   "cell_type": "code",
   "execution_count": 2,
   "id": "161a4af8",
   "metadata": {},
   "outputs": [
    {
     "name": "stdout",
     "output_type": "stream",
     "text": [
      "5\n",
      "1\n",
      "121\n",
      "12321\n",
      "1234321\n",
      "123454321\n"
     ]
    }
   ],
   "source": [
    "for i in range(1,int(input())+1):\n",
    "    print(((10**i-1)//9)**2)"
   ]
  },
  {
   "cell_type": "markdown",
   "id": "705d9e64",
   "metadata": {},
   "source": [
    "#### Task_3:Read in two integers, a and b, and print three lines. The first line is the integer division a//b (While using Python2 remember to import division from __future__). The second line is the result of the modulo operator: a%b. The third line prints the divmod of a and b."
   ]
  },
  {
   "cell_type": "code",
   "execution_count": 1,
   "id": "adde7553",
   "metadata": {},
   "outputs": [
    {
     "name": "stdout",
     "output_type": "stream",
     "text": [
      "177\n",
      "10\n",
      "17\n",
      "7\n",
      "(17, 7)\n"
     ]
    }
   ],
   "source": [
    "a = int(input())\n",
    "b = int(input())\n",
    "print (a//b)\n",
    "print (a%b)\n",
    "print (divmod(a,b))"
   ]
  },
  {
   "cell_type": "markdown",
   "id": "42759f73",
   "metadata": {},
   "source": [
    "#### Task_4:You are given three integers: a, b, and m, respectively. Print two lines.The first line should print the result of pow(a,b). The second line should print the result of pow(a,b,m).\n"
   ]
  },
  {
   "cell_type": "code",
   "execution_count": 2,
   "id": "6c22c68c",
   "metadata": {},
   "outputs": [
    {
     "name": "stdout",
     "output_type": "stream",
     "text": [
      "3\n",
      "4\n",
      "5\n",
      "81\n",
      "1\n"
     ]
    }
   ],
   "source": [
    "a=int(input())\n",
    "b=int(input())\n",
    "m=int(input())\n",
    "print(pow(a,b))\n",
    "print(pow(a,b,m))"
   ]
  },
  {
   "cell_type": "markdown",
   "id": "a4d7415e",
   "metadata": {},
   "source": [
    "#### Task_5:Read four numbers, a, b, c, and d, and print the result of a^b+c^d."
   ]
  },
  {
   "cell_type": "code",
   "execution_count": 3,
   "id": "42a2319d",
   "metadata": {},
   "outputs": [
    {
     "name": "stdout",
     "output_type": "stream",
     "text": [
      "9\n",
      "29\n",
      "7\n",
      "27\n",
      "4710194409608608369201743232\n"
     ]
    }
   ],
   "source": [
    "a = int(input())\n",
    "b = int(input())\n",
    "c = int(input())\n",
    "d = int(input())\n",
    "print(a**b+c**d)"
   ]
  },
  {
   "cell_type": "markdown",
   "id": "d4978b5f",
   "metadata": {},
   "source": [
    "#### Task_6:You are given a positive integer N. Print a numerical triangle of height N-1"
   ]
  },
  {
   "cell_type": "code",
   "execution_count": 4,
   "id": "7cd305fc",
   "metadata": {},
   "outputs": [
    {
     "name": "stdout",
     "output_type": "stream",
     "text": [
      "5\n",
      "1\n",
      "22\n",
      "333\n",
      "4444\n"
     ]
    }
   ],
   "source": [
    "for i in range(1,int(input())):\n",
    "    print(((10**i)//9)*i)"
   ]
  },
  {
   "cell_type": "markdown",
   "id": "45f6db91",
   "metadata": {},
   "source": [
    "#### task_7:ABC is a right triangle, 90o at B.Therefore, angle ABC = 90o.Point M is the midpoint of hypotenuse AC.You are given the lengths AB and BC.Your task is to find angle MBC(angle theta, as shown in figure) in degrees"
   ]
  },
  {
   "cell_type": "code",
   "execution_count": 5,
   "id": "35c1132a",
   "metadata": {},
   "outputs": [
    {
     "name": "stdout",
     "output_type": "stream",
     "text": [
      "10\n",
      "10\n",
      "45°\n"
     ]
    }
   ],
   "source": [
    "from math import degrees, atan2\n",
    "\n",
    "AB = float(input())\n",
    "BC = float(input())\n",
    "\n",
    "MBC = round(degrees(atan2(AB, BC)))\n",
    "print((str(MBC)), chr(176), sep='')"
   ]
  },
  {
   "cell_type": "code",
   "execution_count": null,
   "id": "0da731fc",
   "metadata": {},
   "outputs": [],
   "source": []
  }
 ],
 "metadata": {
  "kernelspec": {
   "display_name": "Python 3 (ipykernel)",
   "language": "python",
   "name": "python3"
  },
  "language_info": {
   "codemirror_mode": {
    "name": "ipython",
    "version": 3
   },
   "file_extension": ".py",
   "mimetype": "text/x-python",
   "name": "python",
   "nbconvert_exporter": "python",
   "pygments_lexer": "ipython3",
   "version": "3.9.12"
  }
 },
 "nbformat": 4,
 "nbformat_minor": 5
}
